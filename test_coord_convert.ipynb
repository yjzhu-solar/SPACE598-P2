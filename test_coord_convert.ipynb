{
 "cells": [
  {
   "cell_type": "code",
   "execution_count": 82,
   "metadata": {},
   "outputs": [],
   "source": [
    "import numpy as np\n",
    "import scipy\n",
    "import scipy.io\n",
    "from scipy.spatial.transform import Rotation as R\n",
    "import astropy.time\n",
    "import datetime\n",
    "import spiceypy as spice\n",
    "import astropy.constants as const"
   ]
  },
  {
   "cell_type": "code",
   "execution_count": 9,
   "metadata": {},
   "outputs": [
    {
     "data": {
      "text/plain": [
       "array([-388.65873034,   24.54586737,    5.83260756])"
      ]
     },
     "execution_count": 9,
     "metadata": {},
     "output_type": "execute_result"
    }
   ],
   "source": [
    "earth_coord = np.array([-1.3965684e+08,57464451.,-7311051.4])\n",
    "earth_vel = np.array([-11.633191,-26.864498,3.4187237])\n",
    "\n",
    "sw_vel = np.array([-361.23,144.081,-12.45060])\n",
    "\n",
    "xprime_gse = -earth_coord\n",
    "xprime_gse = xprime_gse/np.linalg.norm(xprime_gse)\n",
    "\n",
    "zprime_gse = np.cross(np.array([1,0,0]),xprime_gse)\n",
    "zprime_gse = zprime_gse/np.linalg.norm(zprime_gse)\n",
    "if zprime_gse[2] < 0:\n",
    "    zprime_gse = -zprime_gse\n",
    "\n",
    "yprime_gse = np.cross(zprime_gse, xprime_gse)\n",
    "rot_matrix = np.row_stack((xprime_gse,yprime_gse,zprime_gse))\n",
    "rotation = R.from_matrix(rot_matrix)\n",
    "\n",
    "rotation.apply(sw_vel - earth_vel)"
   ]
  },
  {
   "cell_type": "code",
   "execution_count": 35,
   "metadata": {},
   "outputs": [],
   "source": [
    "dateobs = datetime.datetime(year=2005,month=5,day=14,hour=0)\n",
    "dateobs_jd = astropy.time.Time(dateobs).jd\n",
    "dateobs_mjd = astropy.time.Time(dateobs).mjd\n",
    "deg2rad = 180.0/np.pi\n",
    "n = dateobs_jd - 2451545.0\n",
    "L = 280.460 + 0.9856474*n\n",
    "g = 357.528 + 0.9856003*n\n",
    "Lambda = L + 1.915*np.sin(g*deg2rad) + 0.020*np.sin(2*g*deg2rad)\n",
    "Omega = 73.6667 + 0.013958*(dateobs_mjd + 3243.75)/365.25\n",
    "Omega_p = 75.76 + 1.397*n/36525.0\n",
    "inc = 7.25\n",
    "Theta = np.arctan(np.cos(inc)*np.tan(Lambda - Omega))\n",
    "\n",
    "\n",
    "\n"
   ]
  },
  {
   "cell_type": "code",
   "execution_count": null,
   "metadata": {},
   "outputs": [],
   "source": [
    "Omega_p = 75.76 + 1.397*n/36525.0"
   ]
  },
  {
   "cell_type": "code",
   "execution_count": 39,
   "metadata": {},
   "outputs": [
    {
     "data": {
      "text/plain": [
       "array([  7.17683512, -28.25823355,  -6.09631962])"
      ]
     },
     "execution_count": 39,
     "metadata": {},
     "output_type": "execute_result"
    }
   ],
   "source": [
    "v0_earth = 29.7859\n",
    "r_matrix_HAE_HCI = R.from_euler(\"zy\",[75.76*deg2rad,inc*deg2rad])\n",
    "r_matrix_HCI_HAE = r_matrix_HAE_HCI.inv()\n",
    "vel_earth_HAE =  v0_earth*np.array([np.cos(Lambda*deg2rad + np.pi/2),np.sin(Lambda*deg2rad + np.pi/2),0])\n",
    "vel_earth_HCI = r_matrix_HAE_HCI.apply(vel_earth_HAE)\n",
    "vel_earth_HCI"
   ]
  },
  {
   "cell_type": "code",
   "execution_count": 75,
   "metadata": {},
   "outputs": [
    {
     "data": {
      "text/plain": [
       "array([23.2256371 , -9.89080026, 15.20817219])"
      ]
     },
     "execution_count": 75,
     "metadata": {},
     "output_type": "execute_result"
    }
   ],
   "source": [
    "r_matrix_HGI_HAE = R.from_euler(\"zy\",[75.77*deg2rad,inc*deg2rad])\n",
    "r_matrix_HGI_HAE.inv().apply([23.490618,-17.797121 ,0.00038074552])"
   ]
  },
  {
   "cell_type": "code",
   "execution_count": 65,
   "metadata": {},
   "outputs": [
    {
     "data": {
      "text/plain": [
       "array([[-0.93473558,  0.3521298 , -0.04768641]])"
      ]
     },
     "execution_count": 65,
     "metadata": {},
     "output_type": "execute_result"
    }
   ],
   "source": [
    "vec_earth_HCI = np.array([-1.3999653e+08 ,56673694.,-7210420.1])\n",
    "vec_earth_HCI = vec_earth_HCI/np.linalg.norm(vec_earth_HCI)\n",
    "r_matrix_HGI_HCI = R.from_euler(\"z\",[1.397*np.pi/180])\n",
    "r_matrix_HGI_HCI.apply(vec_earth_HCI)"
   ]
  },
  {
   "cell_type": "code",
   "execution_count": 64,
   "metadata": {},
   "outputs": [
    {
     "data": {
      "text/plain": [
       "array([-0.92633675,  0.37368325, -0.04755048])"
      ]
     },
     "execution_count": 64,
     "metadata": {},
     "output_type": "execute_result"
    }
   ],
   "source": [
    "vec_earth_HGI = np.array([-201.24,81.18,-10.33000])\n",
    "vec_earth_HGI = vec_earth_HGI/np.linalg.norm(vec_earth_HGI)\n",
    "vec_earth_HGI"
   ]
  },
  {
   "cell_type": "code",
   "execution_count": 79,
   "metadata": {},
   "outputs": [
    {
     "name": "stdout",
     "output_type": "stream",
     "text": [
      "--------------------------------------------------\n",
      "Date: Tue Mar 15 11:52:22 2022\n",
      "User: yjzhu\n",
      "Host: Yingjies-MacBook-Pro.local\n",
      "--------------------------------------------------\n",
      "Format: 11\n",
      "Architecture: x86_64\n",
      "Operating System: darwin\n",
      "IDL Version: 8.2\n",
      "--------------------------------------------------\n",
      "Successfully read 5 records of which:\n",
      " - 1 are of type VERSION\n",
      " - 1 are of type TIMESTAMP\n",
      " - 2 are of type VARIABLE\n",
      "--------------------------------------------------\n",
      "Available variables:\n",
      " - coord_j2000 [<class 'numpy.ndarray'>]\n",
      " - coord_050514 [<class 'numpy.ndarray'>]\n",
      "--------------------------------------------------\n"
     ]
    }
   ],
   "source": [
    "coord_sav = scipy.io.readsav(\"../src/earth_coord_HAED.save\",verbose=True)"
   ]
  },
  {
   "cell_type": "code",
   "execution_count": 94,
   "metadata": {},
   "outputs": [],
   "source": [
    "r_j2000 = coord_sav[\"coord_j2000\"][0:3]*1e3\n",
    "v_j2000 = coord_sav[\"coord_j2000\"][3:]*1e3\n",
    "\n",
    "GM_earth = const.GM_earth.value\n",
    "GM_sun = const.GM_sun.value\n",
    "\n",
    "E = np.dot(v_j2000,v_j2000)/2 - (GM_earth + GM_sun)/np.linalg.norm(r_j2000)\n",
    "h = np.linalg.norm(np.cross(r_j2000,v_j2000))"
   ]
  },
  {
   "cell_type": "code",
   "execution_count": 95,
   "metadata": {},
   "outputs": [
    {
     "data": {
      "text/plain": [
       "-443331792.3151136"
      ]
     },
     "execution_count": 95,
     "metadata": {},
     "output_type": "execute_result"
    }
   ],
   "source": [
    "E"
   ]
  },
  {
   "cell_type": "code",
   "execution_count": 96,
   "metadata": {},
   "outputs": [
    {
     "data": {
      "text/plain": [
       "4456247350402224.0"
      ]
     },
     "execution_count": 96,
     "metadata": {},
     "output_type": "execute_result"
    }
   ],
   "source": [
    "h"
   ]
  },
  {
   "cell_type": "code",
   "execution_count": 99,
   "metadata": {},
   "outputs": [],
   "source": [
    "def get_vr_vphi_earth(coord_HCI,rsun=None):\n",
    "    #It seems SWMF uses Rsun = 6.96E5 km\n",
    "    if rsun is None:\n",
    "        rsun = const.R_sun.value\n",
    "    \n",
    "    if type(coord_HCI) is list:\n",
    "        coord_HCI = np.array(coord_HCI)\n",
    "\n",
    "    # convert coord into SI units \n",
    "    x_earth = coord_HCI*rsun\n",
    "    r_earth = np.linalg.norm(x_earth)\n",
    "\n",
    "    GM_earth = const.GM_earth.value\n",
    "    GM_sun = const.GM_sun.value\n",
    "\n",
    "    # specific mechanical energy and specific angular momentum\n",
    "    # calculated from the position and velocity of Earth on \n",
    "    # J2000 in HAE by SolarSoft get_sunspice_coord\n",
    "\n",
    "    E = -443331792.3151136\n",
    "    h = 4456247350402224.0\n",
    "\n",
    "    vphi = h/r_earth\n",
    "    vr = np.sqrt(2*E + 2*(GM_sun + GM_earth)/r_earth - np.square(vphi))\n",
    "\n",
    "    return vr/1E3, vphi/1E3\n",
    "\n"
   ]
  },
  {
   "cell_type": "code",
   "execution_count": 101,
   "metadata": {},
   "outputs": [
    {
     "data": {
      "text/plain": [
       "(29.485050237288032, 0.4176996342921215)"
      ]
     },
     "execution_count": 101,
     "metadata": {},
     "output_type": "execute_result"
    }
   ],
   "source": [
    "get_vr_vphi_earth([-201.24,81.18,-10.33000])"
   ]
  }
 ],
 "metadata": {
  "interpreter": {
   "hash": "398dc28c06ad810e77de546bbdfa897a6ee0b83e59a5207339dda01a7843e01d"
  },
  "kernelspec": {
   "display_name": "Python 3.7.3 ('base')",
   "language": "python",
   "name": "python3"
  },
  "language_info": {
   "codemirror_mode": {
    "name": "ipython",
    "version": 3
   },
   "file_extension": ".py",
   "mimetype": "text/x-python",
   "name": "python",
   "nbconvert_exporter": "python",
   "pygments_lexer": "ipython3",
   "version": "3.7.12"
  },
  "orig_nbformat": 4
 },
 "nbformat": 4,
 "nbformat_minor": 2
}
